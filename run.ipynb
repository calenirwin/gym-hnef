{
  "nbformat": 4,
  "nbformat_minor": 0,
  "metadata": {
    "language_info": {
      "codemirror_mode": {
        "name": "ipython",
        "version": 3
      },
      "file_extension": ".py",
      "mimetype": "text/x-python",
      "name": "python",
      "nbconvert_exporter": "python",
      "pygments_lexer": "ipython3",
      "version": "3.8.3"
    },
    "orig_nbformat": 2,
    "kernelspec": {
      "name": "python3",
      "display_name": "Python 3.8.3 64-bit ('base': conda)",
      "metadata": {
        "interpreter": {
          "hash": "db334bc7f20db4633dea0152dae3f9fc1e7b17ca545365f011fc04842ebcac58"
        }
      }
    },
    "colab": {
      "name": "run.ipynb",
      "provenance": [],
      "collapsed_sections": []
    },
    "accelerator": "GPU"
  },
  "cells": [
    {
      "cell_type": "code",
      "metadata": {
        "id": "QQNYZXVjMDmF"
      },
      "source": [
        "#from google.colab import drive\n",
        "#drive.mount('/content/drive/')"
      ],
      "execution_count": 7,
      "outputs": []
    },
    {
      "cell_type": "code",
      "metadata": {
        "id": "4721i2F3Mm4V"
      },
      "source": [
        "#import os\n",
        "\n",
        "#os.chdir('/content/drive/MyDrive/CISC856-Project/')"
      ],
      "execution_count": 8,
      "outputs": []
    },
    {
      "cell_type": "code",
      "metadata": {
        "id": "rAZUfNaRYLg_"
      },
      "source": [
        "!rm -rf 'gym-hnef'"
      ],
      "execution_count": 9,
      "outputs": []
    },
    {
      "cell_type": "code",
      "metadata": {
        "colab": {
          "base_uri": "https://localhost:8080/"
        },
        "id": "rXEyCwWRkq7K",
        "outputId": "4507eaa0-66c9-4458-ff12-0e24c3f48241"
      },
      "source": [
        "!git clone https://github.com/calenirwin/gym-hnef\n",
        "!pip install -e gym-hnef"
      ],
      "execution_count": 10,
      "outputs": [
        {
          "output_type": "stream",
          "text": [
            "Cloning into 'gym-hnef'...\n",
            "remote: Enumerating objects: 375, done.\u001b[K\n",
            "remote: Counting objects:   0% (1/375)\u001b[K\rremote: Counting objects:   1% (4/375)\u001b[K\rremote: Counting objects:   2% (8/375)\u001b[K\rremote: Counting objects:   3% (12/375)\u001b[K\rremote: Counting objects:   4% (15/375)\u001b[K\rremote: Counting objects:   5% (19/375)\u001b[K\rremote: Counting objects:   6% (23/375)\u001b[K\rremote: Counting objects:   7% (27/375)\u001b[K\rremote: Counting objects:   8% (30/375)\u001b[K\rremote: Counting objects:   9% (34/375)\u001b[K\rremote: Counting objects:  10% (38/375)\u001b[K\rremote: Counting objects:  11% (42/375)\u001b[K\rremote: Counting objects:  12% (45/375)\u001b[K\rremote: Counting objects:  13% (49/375)\u001b[K\rremote: Counting objects:  14% (53/375)\u001b[K\rremote: Counting objects:  15% (57/375)\u001b[K\rremote: Counting objects:  16% (60/375)\u001b[K\rremote: Counting objects:  17% (64/375)\u001b[K\rremote: Counting objects:  18% (68/375)\u001b[K\rremote: Counting objects:  19% (72/375)\u001b[K\rremote: Counting objects:  20% (75/375)\u001b[K\rremote: Counting objects:  21% (79/375)\u001b[K\rremote: Counting objects:  22% (83/375)\u001b[K\rremote: Counting objects:  23% (87/375)\u001b[K\rremote: Counting objects:  24% (90/375)\u001b[K\rremote: Counting objects:  25% (94/375)\u001b[K\rremote: Counting objects:  26% (98/375)\u001b[K\rremote: Counting objects:  27% (102/375)\u001b[K\rremote: Counting objects:  28% (105/375)\u001b[K\rremote: Counting objects:  29% (109/375)\u001b[K\rremote: Counting objects:  30% (113/375)\u001b[K\rremote: Counting objects:  31% (117/375)\u001b[K\rremote: Counting objects:  32% (120/375)\u001b[K\rremote: Counting objects:  33% (124/375)\u001b[K\rremote: Counting objects:  34% (128/375)\u001b[K\rremote: Counting objects:  35% (132/375)\u001b[K\rremote: Counting objects:  36% (135/375)\u001b[K\rremote: Counting objects:  37% (139/375)\u001b[K\rremote: Counting objects:  38% (143/375)\u001b[K\rremote: Counting objects:  39% (147/375)\u001b[K\rremote: Counting objects:  40% (150/375)\u001b[K\rremote: Counting objects:  41% (154/375)\u001b[K\rremote: Counting objects:  42% (158/375)\u001b[K\rremote: Counting objects:  43% (162/375)\u001b[K\rremote: Counting objects:  44% (165/375)\u001b[K\rremote: Counting objects:  45% (169/375)\u001b[K\rremote: Counting objects:  46% (173/375)\u001b[K\rremote: Counting objects:  47% (177/375)\u001b[K\rremote: Counting objects:  48% (180/375)\u001b[K\rremote: Counting objects:  49% (184/375)\u001b[K\rremote: Counting objects:  50% (188/375)\u001b[K\rremote: Counting objects:  51% (192/375)\u001b[K\rremote: Counting objects:  52% (195/375)\u001b[K\rremote: Counting objects:  53% (199/375)\u001b[K\rremote: Counting objects:  54% (203/375)\u001b[K\rremote: Counting objects:  55% (207/375)\u001b[K\rremote: Counting objects:  56% (210/375)\u001b[K\rremote: Counting objects:  57% (214/375)\u001b[K\rremote: Counting objects:  58% (218/375)\u001b[K\rremote: Counting objects:  59% (222/375)\u001b[K\rremote: Counting objects:  60% (225/375)\u001b[K\rremote: Counting objects:  61% (229/375)\u001b[K\rremote: Counting objects:  62% (233/375)\u001b[K\rremote: Counting objects:  63% (237/375)\u001b[K\rremote: Counting objects:  64% (240/375)\u001b[K\rremote: Counting objects:  65% (244/375)\u001b[K\rremote: Counting objects:  66% (248/375)\u001b[K\rremote: Counting objects:  67% (252/375)\u001b[K\rremote: Counting objects:  68% (255/375)\u001b[K\rremote: Counting objects:  69% (259/375)\u001b[K\rremote: Counting objects:  70% (263/375)\u001b[K\rremote: Counting objects:  71% (267/375)\u001b[K\rremote: Counting objects:  72% (270/375)\u001b[K\rremote: Counting objects:  73% (274/375)\u001b[K\rremote: Counting objects:  74% (278/375)\u001b[K\rremote: Counting objects:  75% (282/375)\u001b[K\rremote: Counting objects:  76% (285/375)\u001b[K\rremote: Counting objects:  77% (289/375)\u001b[K\rremote: Counting objects:  78% (293/375)\u001b[K\rremote: Counting objects:  79% (297/375)\u001b[K\rremote: Counting objects:  80% (300/375)\u001b[K\rremote: Counting objects:  81% (304/375)\u001b[K\rremote: Counting objects:  82% (308/375)\u001b[K\rremote: Counting objects:  83% (312/375)\u001b[K\rremote: Counting objects:  84% (315/375)\u001b[K\rremote: Counting objects:  85% (319/375)\u001b[K\rremote: Counting objects:  86% (323/375)\u001b[K\rremote: Counting objects:  87% (327/375)\u001b[K\rremote: Counting objects:  88% (330/375)\u001b[K\rremote: Counting objects:  89% (334/375)\u001b[K\rremote: Counting objects:  90% (338/375)\u001b[K\rremote: Counting objects:  91% (342/375)\u001b[K\rremote: Counting objects:  92% (345/375)\u001b[K\rremote: Counting objects:  93% (349/375)\u001b[K\rremote: Counting objects:  94% (353/375)\u001b[K\rremote: Counting objects:  95% (357/375)\u001b[K\rremote: Counting objects:  96% (360/375)\u001b[K\rremote: Counting objects:  97% (364/375)\u001b[K\rremote: Counting objects:  98% (368/375)\u001b[K\rremote: Counting objects:  99% (372/375)\u001b[K\rremote: Counting objects: 100% (375/375)\u001b[K\rremote: Counting objects: 100% (375/375), done.\u001b[K\n",
            "remote: Compressing objects:   0% (1/262)\u001b[K\rremote: Compressing objects:   1% (3/262)\u001b[K\rremote: Compressing objects:   2% (6/262)\u001b[K\rremote: Compressing objects:   3% (8/262)\u001b[K\rremote: Compressing objects:   4% (11/262)\u001b[K\rremote: Compressing objects:   5% (14/262)\u001b[K\rremote: Compressing objects:   6% (16/262)\u001b[K\rremote: Compressing objects:   7% (19/262)\u001b[K\rremote: Compressing objects:   8% (21/262)\u001b[K\rremote: Compressing objects:   9% (24/262)\u001b[K\rremote: Compressing objects:  10% (27/262)\u001b[K\rremote: Compressing objects:  11% (29/262)\u001b[K\rremote: Compressing objects:  12% (32/262)\u001b[K\rremote: Compressing objects:  13% (35/262)\u001b[K\rremote: Compressing objects:  14% (37/262)\u001b[K\rremote: Compressing objects:  15% (40/262)\u001b[K\rremote: Compressing objects:  16% (42/262)\u001b[K\rremote: Compressing objects:  17% (45/262)\u001b[K\rremote: Compressing objects:  18% (48/262)\u001b[K\rremote: Compressing objects:  19% (50/262)\u001b[K\rremote: Compressing objects:  20% (53/262)\u001b[K\rremote: Compressing objects:  21% (56/262)\u001b[K\rremote: Compressing objects:  22% (58/262)\u001b[K\rremote: Compressing objects:  23% (61/262)\u001b[K\rremote: Compressing objects:  24% (63/262)\u001b[K\rremote: Compressing objects:  25% (66/262)\u001b[K\rremote: Compressing objects:  26% (69/262)\u001b[K\rremote: Compressing objects:  27% (71/262)\u001b[K\rremote: Compressing objects:  28% (74/262)\u001b[K\rremote: Compressing objects:  29% (76/262)\u001b[K\rremote: Compressing objects:  30% (79/262)\u001b[K\rremote: Compressing objects:  31% (82/262)\u001b[K\rremote: Compressing objects:  32% (84/262)\u001b[K\rremote: Compressing objects:  33% (87/262)\u001b[K\rremote: Compressing objects:  34% (90/262)\u001b[K\rremote: Compressing objects:  35% (92/262)\u001b[K\rremote: Compressing objects:  36% (95/262)\u001b[K\rremote: Compressing objects:  37% (97/262)\u001b[K\rremote: Compressing objects:  38% (100/262)\u001b[K\rremote: Compressing objects:  39% (103/262)\u001b[K\rremote: Compressing objects:  40% (105/262)\u001b[K\rremote: Compressing objects:  41% (108/262)\u001b[K\rremote: Compressing objects:  42% (111/262)\u001b[K\rremote: Compressing objects:  43% (113/262)\u001b[K\rremote: Compressing objects:  44% (116/262)\u001b[K\rremote: Compressing objects:  45% (118/262)\u001b[K\rremote: Compressing objects:  46% (121/262)\u001b[K\rremote: Compressing objects:  47% (124/262)\u001b[K\rremote: Compressing objects:  48% (126/262)\u001b[K\rremote: Compressing objects:  49% (129/262)\u001b[K\rremote: Compressing objects:  50% (131/262)\u001b[K\rremote: Compressing objects:  51% (134/262)\u001b[K\rremote: Compressing objects:  52% (137/262)\u001b[K\rremote: Compressing objects:  53% (139/262)\u001b[K\rremote: Compressing objects:  54% (142/262)\u001b[K\rremote: Compressing objects:  55% (145/262)\u001b[K\rremote: Compressing objects:  56% (147/262)\u001b[K\rremote: Compressing objects:  57% (150/262)\u001b[K\rremote: Compressing objects:  58% (152/262)\u001b[K\rremote: Compressing objects:  59% (155/262)\u001b[K\rremote: Compressing objects:  60% (158/262)\u001b[K\rremote: Compressing objects:  61% (160/262)\u001b[K\rremote: Compressing objects:  62% (163/262)\u001b[K\rremote: Compressing objects:  63% (166/262)\u001b[K\rremote: Compressing objects:  64% (168/262)\u001b[K\rremote: Compressing objects:  65% (171/262)\u001b[K\rremote: Compressing objects:  66% (173/262)\u001b[K\rremote: Compressing objects:  67% (176/262)\u001b[K\rremote: Compressing objects:  68% (179/262)\u001b[K\rremote: Compressing objects:  69% (181/262)\u001b[K\rremote: Compressing objects:  70% (184/262)\u001b[K\rremote: Compressing objects:  71% (187/262)\u001b[K\rremote: Compressing objects:  72% (189/262)\u001b[K\rremote: Compressing objects:  73% (192/262)\u001b[K\rremote: Compressing objects:  74% (194/262)\u001b[K\rremote: Compressing objects:  75% (197/262)\u001b[K\rremote: Compressing objects:  76% (200/262)\u001b[K\rremote: Compressing objects:  77% (202/262)\u001b[K\rremote: Compressing objects:  78% (205/262)\u001b[K\rremote: Compressing objects:  79% (207/262)\u001b[K\rremote: Compressing objects:  80% (210/262)\u001b[K\rremote: Compressing objects:  81% (213/262)\u001b[K\rremote: Compressing objects:  82% (215/262)\u001b[K\rremote: Compressing objects:  83% (218/262)\u001b[K\rremote: Compressing objects:  84% (221/262)\u001b[K\rremote: Compressing objects:  85% (223/262)\u001b[K\rremote: Compressing objects:  86% (226/262)\u001b[K\rremote: Compressing objects:  87% (228/262)\u001b[K\rremote: Compressing objects:  88% (231/262)\u001b[K\rremote: Compressing objects:  89% (234/262)\u001b[K\rremote: Compressing objects:  90% (236/262)\u001b[K\rremote: Compressing objects:  91% (239/262)\u001b[K\rremote: Compressing objects:  92% (242/262)\u001b[K\rremote: Compressing objects:  93% (244/262)\u001b[K\rremote: Compressing objects:  94% (247/262)\u001b[K\rremote: Compressing objects:  95% (249/262)\u001b[K\rremote: Compressing objects:  96% (252/262)\u001b[K\rremote: Compressing objects:  97% (255/262)\u001b[K\rremote: Compressing objects:  98% (257/262)\u001b[K\rremote: Compressing objects:  99% (260/262)\u001b[K\rremote: Compressing objects: 100% (262/262)\u001b[K\rremote: Compressing objects: 100% (262/262), done.\u001b[K\n",
            "Receiving objects:   0% (1/375)   \rReceiving objects:   1% (4/375)   \rReceiving objects:   2% (8/375)   \rReceiving objects:   3% (12/375)   \rReceiving objects:   4% (15/375)   \rReceiving objects:   5% (19/375)   \rReceiving objects:   6% (23/375)   \rReceiving objects:   7% (27/375)   \rReceiving objects:   8% (30/375)   \rReceiving objects:   9% (34/375)   \rReceiving objects:  10% (38/375)   \rReceiving objects:  11% (42/375)   \rReceiving objects:  12% (45/375)   \rReceiving objects:  13% (49/375)   \rReceiving objects:  14% (53/375)   \rReceiving objects:  15% (57/375)   \rReceiving objects:  16% (60/375)   \rReceiving objects:  17% (64/375)   \rReceiving objects:  18% (68/375)   \rReceiving objects:  19% (72/375)   \rReceiving objects:  20% (75/375)   \rReceiving objects:  21% (79/375)   \rReceiving objects:  22% (83/375)   \rReceiving objects:  23% (87/375)   \rReceiving objects:  24% (90/375)   \rReceiving objects:  25% (94/375)   \rReceiving objects:  26% (98/375)   \rReceiving objects:  27% (102/375)   \rReceiving objects:  28% (105/375)   \rReceiving objects:  29% (109/375)   \rReceiving objects:  30% (113/375)   \rReceiving objects:  31% (117/375)   \rReceiving objects:  32% (120/375)   \rReceiving objects:  33% (124/375)   \rReceiving objects:  34% (128/375)   \rReceiving objects:  35% (132/375)   \rReceiving objects:  36% (135/375)   \rReceiving objects:  37% (139/375)   \rReceiving objects:  38% (143/375)   \rReceiving objects:  39% (147/375)   \rReceiving objects:  40% (150/375)   \rReceiving objects:  41% (154/375)   \rReceiving objects:  42% (158/375)   \rremote: Total 375 (delta 220), reused 260 (delta 108), pack-reused 0\u001b[K\n",
            "Receiving objects:  43% (162/375)   \rReceiving objects:  44% (165/375)   \rReceiving objects:  45% (169/375)   \rReceiving objects:  46% (173/375)   \rReceiving objects:  47% (177/375)   \rReceiving objects:  48% (180/375)   \rReceiving objects:  49% (184/375)   \rReceiving objects:  50% (188/375)   \rReceiving objects:  51% (192/375)   \rReceiving objects:  52% (195/375)   \rReceiving objects:  53% (199/375)   \rReceiving objects:  54% (203/375)   \rReceiving objects:  55% (207/375)   \rReceiving objects:  56% (210/375)   \rReceiving objects:  57% (214/375)   \rReceiving objects:  58% (218/375)   \rReceiving objects:  59% (222/375)   \rReceiving objects:  60% (225/375)   \rReceiving objects:  61% (229/375)   \rReceiving objects:  62% (233/375)   \rReceiving objects:  63% (237/375)   \rReceiving objects:  64% (240/375)   \rReceiving objects:  65% (244/375)   \rReceiving objects:  66% (248/375)   \rReceiving objects:  67% (252/375)   \rReceiving objects:  68% (255/375)   \rReceiving objects:  69% (259/375)   \rReceiving objects:  70% (263/375)   \rReceiving objects:  71% (267/375)   \rReceiving objects:  72% (270/375)   \rReceiving objects:  73% (274/375)   \rReceiving objects:  74% (278/375)   \rReceiving objects:  75% (282/375)   \rReceiving objects:  76% (285/375)   \rReceiving objects:  77% (289/375)   \rReceiving objects:  78% (293/375)   \rReceiving objects:  79% (297/375)   \rReceiving objects:  80% (300/375)   \rReceiving objects:  81% (304/375)   \rReceiving objects:  82% (308/375)   \rReceiving objects:  83% (312/375)   \rReceiving objects:  84% (315/375)   \rReceiving objects:  85% (319/375)   \rReceiving objects:  86% (323/375)   \rReceiving objects:  87% (327/375)   \rReceiving objects:  88% (330/375)   \rReceiving objects:  89% (334/375)   \rReceiving objects:  90% (338/375)   \rReceiving objects:  91% (342/375)   \rReceiving objects:  92% (345/375)   \rReceiving objects:  93% (349/375)   \rReceiving objects:  94% (353/375)   \rReceiving objects:  95% (357/375)   \rReceiving objects:  96% (360/375)   \rReceiving objects:  97% (364/375)   \rReceiving objects:  98% (368/375)   \rReceiving objects:  99% (372/375)   \rReceiving objects: 100% (375/375)   \rReceiving objects: 100% (375/375), 492.68 KiB | 30.79 MiB/s, done.\n",
            "Resolving deltas:   0% (0/220)   \rResolving deltas:   1% (3/220)   \rResolving deltas:  24% (54/220)   \rResolving deltas:  31% (69/220)   \rResolving deltas:  33% (73/220)   \rResolving deltas:  35% (78/220)   \rResolving deltas:  37% (82/220)   \rResolving deltas:  44% (98/220)   \rResolving deltas:  45% (99/220)   \rResolving deltas:  55% (123/220)   \rResolving deltas:  58% (128/220)   \rResolving deltas:  68% (151/220)   \rResolving deltas:  70% (154/220)   \rResolving deltas:  71% (157/220)   \rResolving deltas:  72% (159/220)   \rResolving deltas:  74% (163/220)   \rResolving deltas:  76% (168/220)   \rResolving deltas:  78% (172/220)   \rResolving deltas:  85% (187/220)   \rResolving deltas:  87% (192/220)   \rResolving deltas:  96% (212/220)   \rResolving deltas:  99% (219/220)   \rResolving deltas: 100% (220/220)   \rResolving deltas: 100% (220/220), done.\n",
            "Obtaining file:///content/gym-hnef\n",
            "Requirement already satisfied: gym in /usr/local/lib/python3.7/dist-packages (from gym-hnef==0.0.1) (0.17.3)\n",
            "Requirement already satisfied: pyglet<=1.5.0,>=1.4.0 in /usr/local/lib/python3.7/dist-packages (from gym->gym-hnef==0.0.1) (1.5.0)\n",
            "Requirement already satisfied: numpy>=1.10.4 in /usr/local/lib/python3.7/dist-packages (from gym->gym-hnef==0.0.1) (1.19.5)\n",
            "Requirement already satisfied: cloudpickle<1.7.0,>=1.2.0 in /usr/local/lib/python3.7/dist-packages (from gym->gym-hnef==0.0.1) (1.3.0)\n",
            "Requirement already satisfied: scipy in /usr/local/lib/python3.7/dist-packages (from gym->gym-hnef==0.0.1) (1.4.1)\n",
            "Requirement already satisfied: future in /usr/local/lib/python3.7/dist-packages (from pyglet<=1.5.0,>=1.4.0->gym->gym-hnef==0.0.1) (0.16.0)\n",
            "Installing collected packages: gym-hnef\n",
            "  Found existing installation: gym-hnef 0.0.1\n",
            "    Can't uninstall 'gym-hnef'. No files were found to uninstall.\n",
            "  Running setup.py develop for gym-hnef\n",
            "Successfully installed gym-hnef\n"
          ],
          "name": "stdout"
        }
      ]
    },
    {
      "cell_type": "code",
      "metadata": {
        "id": "dc6lipgRk_yZ"
      },
      "source": [
        "import os\n",
        "\n",
        "def restart_runtime():\n",
        "  os.kill(os.getpid(), 9)\n",
        "\n",
        "restart_runtime()"
      ],
      "execution_count": null,
      "outputs": []
    },
    {
      "cell_type": "code",
      "metadata": {
        "id": "0-9hobDJI8w7"
      },
      "source": [
        "import numpy as np\n",
        "from matplotlib import pyplot as plt\n",
        "import gym\n",
        "from gym_hnef import hnef_game, hnef_vars\n",
        "from gym_hnef.envs import hnef_env\n",
        "import model\n",
        "import mcts\n",
        "import agent\n",
        "import config\n",
        "import funcs\n",
        "import memory"
      ],
      "execution_count": 2,
      "outputs": []
    },
    {
      "cell_type": "code",
      "metadata": {
        "id": "6aPF3lLQI8w9"
      },
      "source": [
        "# 9 * 9 * 9 * 9, size of the action space\n",
        "action_size = 6561\n",
        "# initial state of the game\n",
        "init_state = hnef_game.init_state('historical')"
      ],
      "execution_count": 3,
      "outputs": []
    },
    {
      "cell_type": "code",
      "metadata": {
        "id": "-OIvm1mpI8w_"
      },
      "source": [
        "# Create the neural networks\n",
        "current_NN = model.Residual_CNN(config.REG_CONST, config.LEARNING_RATE, init_state.shape, action_size, config.HIDDEN_CNN_LAYERS)\n",
        "best_NN = model.Residual_CNN(config.REG_CONST, config.LEARNING_RATE, init_state.shape, action_size, config.HIDDEN_CNN_LAYERS)"
      ],
      "execution_count": 4,
      "outputs": []
    },
    {
      "cell_type": "code",
      "metadata": {
        "id": "bSx6ANSGI8xC"
      },
      "source": [
        "# Create the players\n",
        "current_player = agent.Agent('current_player', current_NN, init_state.shape, action_size)\n",
        "best_player = agent.Agent('best_player', best_NN, init_state.shape, action_size)"
      ],
      "execution_count": 5,
      "outputs": []
    },
    {
      "cell_type": "code",
      "metadata": {
        "id": "Sn-r7VXwI8xE",
        "colab": {
          "base_uri": "https://localhost:8080/",
          "height": 712
        },
        "outputId": "836f8b6d-5869-44db-e0f9-44b44d69cf27"
      },
      "source": [
        "iteration = 0\n",
        "\n",
        "max_iter = 1e2\n",
        "\n",
        "mem = memory.Memory(config.MEMORY_SIZE)\n",
        "\n",
        "version = 0\n",
        "\n",
        "while iteration < max_iter:\n",
        "    # Self play\n",
        "    scores, mem = funcs.play_matches(best_player, best_player, mem=mem)\n",
        "    print(scores)\n",
        "\n",
        "    mem.clear_stmemory()\n",
        "\n",
        "    if len(mem.ltmemory) >= config.MEMORY_SIZE:\n",
        "\n",
        "        current_player.replay(mem.ltmemory)\n",
        "\n",
        "        scores, _ = play_matches(best_player, current_player)\n",
        "        print(scores)\n",
        "\n",
        "        if scores['current_player'] > scores['best_player'] * config.SCORING_THRESHOLD:\n",
        "            version += 1\n",
        "            print(version)\n",
        "            best_NN.model.set_weights(current_NN.model.get_weights())\n",
        "    else:\n",
        "        print('Memory size', str(len(mem.ltmemory)))\n",
        "    iteration += 1"
      ],
      "execution_count": 6,
      "outputs": [
        {
          "output_type": "stream",
          "text": [
            "Iteration number: 0\n",
            "[((0, 2), (0, 3)), ((0, 4), (1, 4)), ((0, 4), (2, 4)), ((0, 4), (3, 4)), ((0, 4), (0, 3)), ((0, 4), (0, 5)), ((0, 6), (0, 5)), ((1, 2), (2, 2)), ((1, 3), (0, 3)), ((1, 3), (1, 4)), ((1, 5), (0, 5)), ((1, 5), (1, 4)), ((1, 6), (2, 6)), ((2, 0), (3, 0)), ((2, 1), (2, 2)), ((2, 3), (2, 2)), ((2, 3), (2, 4)), ((2, 5), (2, 4)), ((2, 5), (2, 6)), ((2, 7), (2, 6)), ((2, 8), (3, 8)), ((3, 1), (4, 1)), ((3, 1), (3, 0)), ((3, 2), (2, 2)), ((3, 2), (4, 2)), ((3, 3), (4, 3)), ((3, 3), (3, 4)), ((3, 5), (4, 5)), ((3, 5), (3, 4)), ((3, 6), (2, 6)), ((3, 6), (4, 6)), ((3, 7), (4, 7)), ((3, 7), (3, 8)), ((4, 0), (3, 0)), ((4, 0), (5, 0)), ((4, 0), (4, 1)), ((4, 0), (4, 2)), ((4, 0), (4, 3)), ((4, 8), (3, 8)), ((4, 8), (5, 8)), ((4, 8), (4, 7)), ((4, 8), (4, 6)), ((4, 8), (4, 5)), ((5, 1), (4, 1)), ((5, 1), (5, 0)), ((5, 2), (4, 2)), ((5, 2), (6, 2)), ((5, 3), (4, 3)), ((5, 3), (5, 4)), ((5, 5), (4, 5)), ((5, 5), (5, 4)), ((5, 6), (4, 6)), ((5, 6), (6, 6)), ((5, 7), (4, 7)), ((5, 7), (5, 8)), ((6, 0), (5, 0)), ((6, 1), (6, 2)), ((6, 3), (6, 2)), ((6, 3), (6, 4)), ((6, 5), (6, 4)), ((6, 5), (6, 6)), ((6, 7), (6, 6)), ((6, 8), (5, 8)), ((7, 2), (6, 2)), ((7, 3), (8, 3)), ((7, 3), (7, 4)), ((7, 5), (8, 5)), ((7, 5), (7, 4)), ((7, 6), (6, 6)), ((8, 2), (8, 3)), ((8, 4), (7, 4)), ((8, 4), (6, 4)), ((8, 4), (5, 4)), ((8, 4), (8, 3)), ((8, 4), (8, 5)), ((8, 6), (8, 5))]\n"
          ],
          "name": "stdout"
        },
        {
          "output_type": "error",
          "ename": "ValueError",
          "evalue": "ignored",
          "traceback": [
            "\u001b[0;31m---------------------------------------------------------------------------\u001b[0m",
            "\u001b[0;31mValueError\u001b[0m                                Traceback (most recent call last)",
            "\u001b[0;32m<ipython-input-6-8a859fa3579c>\u001b[0m in \u001b[0;36m<module>\u001b[0;34m()\u001b[0m\n\u001b[1;32m     11\u001b[0m \u001b[0;34m\u001b[0m\u001b[0m\n\u001b[1;32m     12\u001b[0m     \u001b[0;31m# Self play\u001b[0m\u001b[0;34m\u001b[0m\u001b[0;34m\u001b[0m\u001b[0;34m\u001b[0m\u001b[0m\n\u001b[0;32m---> 13\u001b[0;31m     \u001b[0mscores\u001b[0m\u001b[0;34m,\u001b[0m \u001b[0mmem\u001b[0m \u001b[0;34m=\u001b[0m \u001b[0mfuncs\u001b[0m\u001b[0;34m.\u001b[0m\u001b[0mplay_matches\u001b[0m\u001b[0;34m(\u001b[0m\u001b[0mbest_player\u001b[0m\u001b[0;34m,\u001b[0m \u001b[0mbest_player\u001b[0m\u001b[0;34m,\u001b[0m \u001b[0mmem\u001b[0m\u001b[0;34m=\u001b[0m\u001b[0mmem\u001b[0m\u001b[0;34m)\u001b[0m\u001b[0;34m\u001b[0m\u001b[0;34m\u001b[0m\u001b[0m\n\u001b[0m\u001b[1;32m     14\u001b[0m     \u001b[0mprint\u001b[0m\u001b[0;34m(\u001b[0m\u001b[0mscores\u001b[0m\u001b[0;34m)\u001b[0m\u001b[0;34m\u001b[0m\u001b[0;34m\u001b[0m\u001b[0m\n\u001b[1;32m     15\u001b[0m \u001b[0;34m\u001b[0m\u001b[0m\n",
            "\u001b[0;32m/content/gym-hnef/funcs.py\u001b[0m in \u001b[0;36mplay_matches\u001b[0;34m(p1, p2, mem, episodes, turn_until_tau0, rule_set)\u001b[0m\n\u001b[1;32m     35\u001b[0m                 \u001b[0mmem\u001b[0m\u001b[0;34m.\u001b[0m\u001b[0mcommit_stmemory\u001b[0m\u001b[0;34m(\u001b[0m\u001b[0mstate\u001b[0m\u001b[0;34m,\u001b[0m \u001b[0mpi\u001b[0m\u001b[0;34m)\u001b[0m\u001b[0;34m\u001b[0m\u001b[0;34m\u001b[0m\u001b[0m\n\u001b[1;32m     36\u001b[0m \u001b[0;34m\u001b[0m\u001b[0m\n\u001b[0;32m---> 37\u001b[0;31m             \u001b[0mstate\u001b[0m\u001b[0;34m,\u001b[0m \u001b[0mreward\u001b[0m\u001b[0;34m,\u001b[0m \u001b[0mdone\u001b[0m\u001b[0;34m,\u001b[0m \u001b[0minfo\u001b[0m \u001b[0;34m=\u001b[0m \u001b[0menv\u001b[0m\u001b[0;34m.\u001b[0m\u001b[0mstep\u001b[0m\u001b[0;34m(\u001b[0m\u001b[0maction\u001b[0m\u001b[0;34m)\u001b[0m\u001b[0;34m\u001b[0m\u001b[0;34m\u001b[0m\u001b[0m\n\u001b[0m\u001b[1;32m     38\u001b[0m             \u001b[0mturn\u001b[0m \u001b[0;34m=\u001b[0m \u001b[0minfo\u001b[0m\u001b[0;34m[\u001b[0m\u001b[0;34m'turn'\u001b[0m\u001b[0;34m]\u001b[0m\u001b[0;34m\u001b[0m\u001b[0;34m\u001b[0m\u001b[0m\n\u001b[1;32m     39\u001b[0m             \u001b[0mother_turn\u001b[0m \u001b[0;34m=\u001b[0m \u001b[0mnp\u001b[0m\u001b[0;34m.\u001b[0m\u001b[0mabs\u001b[0m\u001b[0;34m(\u001b[0m\u001b[0mint\u001b[0m\u001b[0;34m(\u001b[0m\u001b[0mturn\u001b[0m\u001b[0;34m)\u001b[0m \u001b[0;34m-\u001b[0m \u001b[0;36m1\u001b[0m\u001b[0;34m)\u001b[0m\u001b[0;34m\u001b[0m\u001b[0;34m\u001b[0m\u001b[0m\n",
            "\u001b[0;32m/content/gym-hnef/gym_hnef/envs/hnef_env.py\u001b[0m in \u001b[0;36mstep\u001b[0;34m(self, action)\u001b[0m\n\u001b[1;32m     54\u001b[0m         \u001b[0mself\u001b[0m\u001b[0;34m.\u001b[0m\u001b[0mall_states\u001b[0m\u001b[0;34m.\u001b[0m\u001b[0mappend\u001b[0m\u001b[0;34m(\u001b[0m\u001b[0mself\u001b[0m\u001b[0;34m.\u001b[0m\u001b[0mstate\u001b[0m\u001b[0;34m)\u001b[0m  \u001b[0;31m# keep track of all game states\u001b[0m\u001b[0;34m\u001b[0m\u001b[0;34m\u001b[0m\u001b[0m\n\u001b[1;32m     55\u001b[0m         \u001b[0mself\u001b[0m\u001b[0;34m.\u001b[0m\u001b[0mall_actions\u001b[0m\u001b[0;34m.\u001b[0m\u001b[0mappend\u001b[0m\u001b[0;34m(\u001b[0m\u001b[0maction\u001b[0m\u001b[0;34m)\u001b[0m  \u001b[0;31m# keep track of all actions taken\u001b[0m\u001b[0;34m\u001b[0m\u001b[0;34m\u001b[0m\u001b[0m\n\u001b[0;32m---> 56\u001b[0;31m         \u001b[0mself\u001b[0m\u001b[0;34m.\u001b[0m\u001b[0mstate\u001b[0m \u001b[0;34m=\u001b[0m \u001b[0mhnef_game\u001b[0m\u001b[0;34m.\u001b[0m\u001b[0mnext_state\u001b[0m\u001b[0;34m(\u001b[0m\u001b[0mself\u001b[0m\u001b[0;34m.\u001b[0m\u001b[0mstate\u001b[0m\u001b[0;34m,\u001b[0m \u001b[0maction\u001b[0m\u001b[0;34m)\u001b[0m   \u001b[0;31m# get next state\u001b[0m\u001b[0;34m\u001b[0m\u001b[0;34m\u001b[0m\u001b[0m\n\u001b[0m\u001b[1;32m     57\u001b[0m         \u001b[0mself\u001b[0m\u001b[0;34m.\u001b[0m\u001b[0mdone\u001b[0m\u001b[0;34m,\u001b[0m \u001b[0mwinner\u001b[0m \u001b[0;34m=\u001b[0m \u001b[0mhnef_game\u001b[0m\u001b[0;34m.\u001b[0m\u001b[0mis_over\u001b[0m\u001b[0;34m(\u001b[0m\u001b[0mself\u001b[0m\u001b[0;34m.\u001b[0m\u001b[0mstate\u001b[0m\u001b[0;34m,\u001b[0m \u001b[0maction\u001b[0m\u001b[0;34m)\u001b[0m       \u001b[0;31m# check if the game is over\u001b[0m\u001b[0;34m\u001b[0m\u001b[0;34m\u001b[0m\u001b[0m\n\u001b[1;32m     58\u001b[0m \u001b[0;34m\u001b[0m\u001b[0m\n",
            "\u001b[0;32m/content/gym-hnef/gym_hnef/hnef_game.py\u001b[0m in \u001b[0;36mnext_state\u001b[0;34m(state, action)\u001b[0m\n\u001b[1;32m    210\u001b[0m     \u001b[0mvalid_moves\u001b[0m \u001b[0;34m=\u001b[0m \u001b[0mcompute_valid_moves\u001b[0m\u001b[0;34m(\u001b[0m\u001b[0mstate\u001b[0m\u001b[0;34m)\u001b[0m\u001b[0;34m\u001b[0m\u001b[0;34m\u001b[0m\u001b[0m\n\u001b[1;32m    211\u001b[0m     \u001b[0mprint\u001b[0m\u001b[0;34m(\u001b[0m\u001b[0mvalid_moves\u001b[0m\u001b[0;34m)\u001b[0m\u001b[0;34m\u001b[0m\u001b[0;34m\u001b[0m\u001b[0m\n\u001b[0;32m--> 212\u001b[0;31m     \u001b[0mprint\u001b[0m\u001b[0;34m(\u001b[0m\u001b[0maction\u001b[0m \u001b[0;32min\u001b[0m \u001b[0mvalid_moves\u001b[0m\u001b[0;34m)\u001b[0m\u001b[0;34m\u001b[0m\u001b[0;34m\u001b[0m\u001b[0m\n\u001b[0m\u001b[1;32m    213\u001b[0m     \u001b[0mprint\u001b[0m\u001b[0;34m(\u001b[0m\u001b[0maction\u001b[0m\u001b[0;34m)\u001b[0m\u001b[0;34m\u001b[0m\u001b[0;34m\u001b[0m\u001b[0m\n\u001b[1;32m    214\u001b[0m     \u001b[0;32massert\u001b[0m \u001b[0maction\u001b[0m \u001b[0;32min\u001b[0m \u001b[0mvalid_moves\u001b[0m\u001b[0;34m\u001b[0m\u001b[0;34m\u001b[0m\u001b[0m\n",
            "\u001b[0;31mValueError\u001b[0m: The truth value of an array with more than one element is ambiguous. Use a.any() or a.all()"
          ]
        }
      ]
    },
    {
      "cell_type": "code",
      "metadata": {
        "id": "nTIniTafI8xE"
      },
      "source": [],
      "execution_count": null,
      "outputs": []
    }
  ]
}