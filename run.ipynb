{
  "nbformat": 4,
  "nbformat_minor": 0,
  "metadata": {
    "language_info": {
      "codemirror_mode": {
        "name": "ipython",
        "version": 3
      },
      "file_extension": ".py",
      "mimetype": "text/x-python",
      "name": "python",
      "nbconvert_exporter": "python",
      "pygments_lexer": "ipython3",
      "version": "3.8.3"
    },
    "orig_nbformat": 2,
    "kernelspec": {
      "name": "python3",
      "display_name": "Python 3.8.3 64-bit ('base': conda)",
      "metadata": {
        "interpreter": {
          "hash": "db334bc7f20db4633dea0152dae3f9fc1e7b17ca545365f011fc04842ebcac58"
        }
      }
    },
    "colab": {
      "name": "run.ipynb",
      "provenance": [],
      "collapsed_sections": []
    },
    "accelerator": "GPU"
  },
  "cells": [
    {
      "cell_type": "code",
      "metadata": {
        "id": "rAZUfNaRYLg_"
      },
      "source": [
        "!rm -rf 'gym-hnef'"
      ],
      "execution_count": null,
      "outputs": []
    },
    {
      "cell_type": "code",
      "metadata": {
        "colab": {
          "base_uri": "https://localhost:8080/"
        },
        "id": "rXEyCwWRkq7K",
        "outputId": "4507eaa0-66c9-4458-ff12-0e24c3f48241"
      },
      "source": [
        "!git clone https://github.com/calenirwin/gym-hnef\n",
        "!pip install -e gym-hnef"
      ],
      "execution_count": null,
      "outputs": []
    },
    {
      "cell_type": "code",
      "metadata": {
        "id": "dc6lipgRk_yZ"
      },
      "source": [
        "import os\n",
        "\n",
        "def restart_runtime():\n",
        "  os.kill(os.getpid(), 9)\n",
        "\n",
        "restart_runtime()"
      ],
      "execution_count": null,
      "outputs": []
    },
    {
      "cell_type": "code",
      "metadata": {
        "id": "0-9hobDJI8w7"
      },
      "source": [
        "import numpy as np\n",
        "from matplotlib import pyplot as plt\n",
        "import gym\n",
        "from gym_hnef import hnef_game, hnef_vars\n",
        "from gym_hnef.envs import hnef_env\n",
        "import model\n",
        "import mcts\n",
        "import agent\n",
        "import config\n",
        "import funcs\n",
        "import memory"
      ],
      "execution_count": null,
      "outputs": []
    },
    {
      "cell_type": "code",
      "metadata": {
        "id": "6aPF3lLQI8w9"
      },
      "source": [
        "# 9 * 9 * 9 * 9, size of the action space\n",
        "action_size = 6561\n",
        "# initial state of the game\n",
        "init_state = hnef_game.init_state('historical')"
      ],
      "execution_count": null,
      "outputs": []
    },
    {
      "cell_type": "code",
      "metadata": {
        "id": "-OIvm1mpI8w_"
      },
      "source": [
        "# Create the neural networks\n",
        "current_NN = model.Residual_CNN(config.REG_CONST, config.LEARNING_RATE, init_state.shape, action_size, config.HIDDEN_CNN_LAYERS)\n",
        "best_NN = model.Residual_CNN(config.REG_CONST, config.LEARNING_RATE, init_state.shape, action_size, config.HIDDEN_CNN_LAYERS)"
      ],
      "execution_count": null,
      "outputs": []
    },
    {
      "cell_type": "code",
      "metadata": {
        "id": "bSx6ANSGI8xC"
      },
      "source": [
        "# Create the players\n",
        "current_player = agent.Agent('current_player', current_NN, init_state.shape, action_size)\n",
        "best_player = agent.Agent('best_player', best_NN, init_state.shape, action_size)"
      ],
      "execution_count": null,
      "outputs": []
    },
    {
      "cell_type": "code",
      "metadata": {
        "id": "Sn-r7VXwI8xE",
        "colab": {
          "base_uri": "https://localhost:8080/",
          "height": 712
        },
        "outputId": "836f8b6d-5869-44db-e0f9-44b44d69cf27"
      },
      "source": [
        "iteration = 0\n",
        "\n",
        "max_iter = 1e2\n",
        "\n",
        "mem = memory.Memory(config.MEMORY_SIZE)\n",
        "\n",
        "version = 0\n",
        "\n",
        "while iteration < max_iter:\n",
        "    # Self play\n",
        "    scores, mem = funcs.play_matches(best_player, best_player, mem=mem)\n",
        "    print(scores)\n",
        "\n",
        "    mem.clear_stmemory()\n",
        "\n",
        "    if len(mem.ltmemory) >= config.MEMORY_SIZE:\n",
        "\n",
        "        current_player.replay(mem.ltmemory)\n",
        "\n",
        "        scores, _ = funcs.play_matches(best_player, current_player)\n",
        "        print(scores)\n",
        "\n",
        "        if scores['current_player'] > scores['best_player'] * config.SCORING_THRESHOLD:\n",
        "            version += 1\n",
        "            print(version)\n",
        "            best_NN.model.set_weights(current_NN.model.get_weights())\n",
        "    else:\n",
        "        print('Memory Usage: ', str(len(mem.ltmemory)), \"/\", str(config.MEMORY_SIZE))\n",
        "    iteration += 1"
      ],
      "execution_count": null,
      "outputs": []
    },
    {
      "cell_type": "code",
      "metadata": {
        "id": "nTIniTafI8xE"
      },
      "source": [
        "random_player = agent.Agent('random_player', init_state.shape, action_size)\n",
        "scores, all_end_states = funcs.evaluate_agents(best_player, random_player)"
      ],
      "execution_count": null,
      "outputs": []
    },
    {
      "cell_type": "code",
      "execution_count": null,
      "metadata": {},
      "outputs": [],
      "source": [
        "#current_NN.model.save_weights('best_weights.h5')"
      ]
    }
  ]
}