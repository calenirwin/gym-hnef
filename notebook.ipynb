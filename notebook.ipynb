{
 "metadata": {
  "language_info": {
   "codemirror_mode": {
    "name": "ipython",
    "version": 3
   },
   "file_extension": ".py",
   "mimetype": "text/x-python",
   "name": "python",
   "nbconvert_exporter": "python",
   "pygments_lexer": "ipython3",
   "version": "3.8.3-final"
  },
  "orig_nbformat": 2,
  "kernelspec": {
   "name": "python3",
   "display_name": "Python 3.8.3 64-bit ('Notandi': virtualenv)",
   "metadata": {
    "interpreter": {
     "hash": "db334bc7f20db4633dea0152dae3f9fc1e7b17ca545365f011fc04842ebcac58"
    }
   }
  }
 },
 "nbformat": 4,
 "nbformat_minor": 2,
 "cells": [
  {
   "cell_type": "code",
   "execution_count": 2,
   "metadata": {},
   "outputs": [],
   "source": [
    "import numpy as np"
   ]
  },
  {
   "source": [
    "# Experiment with the compute_valid_moves to see if it works for a simplified board (5x5)"
   ],
   "cell_type": "markdown",
   "metadata": {}
  },
  {
   "cell_type": "code",
   "execution_count": 47,
   "metadata": {},
   "outputs": [],
   "source": [
    "state = np.zeros((5, 5, 5))\n",
    "\n",
    "attacker_layout = np.array([[0, 0, 1, 0, 0], \n",
    "                            [0, 0, 0, 0, 0],\n",
    "                            [1, 0, 0, 0, 1],\n",
    "                            [0, 0, 0, 0, 0],\n",
    "                            [0, 0, 1, 0, 0]])\n",
    "\n",
    "defender_layout = np.array([[0, 0, 0, 0, 0], \n",
    "                            [0, 0, 1, 0, 0],\n",
    "                            [0, 1, 2, 1, 0],\n",
    "                            [0, 0, 1, 0, 0],\n",
    "                            [0, 0, 0, 0, 0]])\n",
    "\n",
    "state[0] = attacker_layout\n",
    "state[1] = defender_layout\n",
    "board_size = state.shape[1]"
   ]
  },
  {
   "cell_type": "code",
   "execution_count": 48,
   "metadata": {},
   "outputs": [
    {
     "output_type": "execute_result",
     "data": {
      "text/plain": [
       "array([[0., 0., 1., 0., 0.],\n",
       "       [0., 0., 1., 0., 0.],\n",
       "       [1., 1., 2., 1., 1.],\n",
       "       [0., 0., 1., 0., 0.],\n",
       "       [0., 0., 1., 0., 0.]])"
      ]
     },
     "metadata": {},
     "execution_count": 48
    }
   ],
   "source": [
    "state[0] + state[1]"
   ]
  },
  {
   "cell_type": "code",
   "execution_count": 49,
   "metadata": {},
   "outputs": [],
   "source": [
    "# In: state (current state), x-position of piece, y-position of piece\n",
    "# Out: list of all possible actions where action a = ((x, y), (new_x, new_y))\n",
    "def actions_for_piece(state, x, y):\n",
    "    actions = []\n",
    "\n",
    "    board_size = state.shape[1]\n",
    "\n",
    "    # the position of every piece\n",
    "    full_board = state[0] + state[1]\n",
    "\n",
    "    throne = (board_size // 2, board_size // 2)\n",
    "    # can the piece move up?\n",
    "    if x > 0:\n",
    "        pos_x = x\n",
    "        pos_y = y \n",
    "        # continue until on the edge or about to collide with another piece\n",
    "        while pos_x > 0 and not full_board[pos_x - 1, y]:\n",
    "            pos_x -= 1\n",
    "            # the action isn't possible if the destination is the throne, except if the piece is the king\n",
    "            if ((full_board[x, y] == 2 and ((pos_x, y) == throne))) or (((pos_x, y) != throne)):\n",
    "                actions.append(((x, y), (pos_x, y)))\n",
    "\n",
    "    # can the piece move down?\n",
    "    if x < board_size - 1:\n",
    "        pos_x = x\n",
    "        pos_y = y\n",
    "        # continue until on the edge or about to collide with another piece\n",
    "        while pos_x < board_size - 1 and not full_board[pos_x + 1, y]:\n",
    "            pos_x += 1\n",
    "\n",
    "            if ((full_board[x, y] == 2 and ((pos_x, y) == throne))) or (((pos_x, y) != throne)):\n",
    "                actions.append(((x, y), (pos_x, y)))\n",
    "\n",
    "    # can the piece move left?\n",
    "    if y > 0:\n",
    "        pos_x = x\n",
    "        pos_y = y\n",
    "        while pos_y > 0 and not full_board[x, pos_y - 1]:\n",
    "            pos_y -= 1\n",
    "\n",
    "            if ((full_board[x, y] == 2 and ((x, pos_y) == throne))) or (((x, pos_y) != throne)):\n",
    "                actions.append(((x, y), (x, pos_y)))\n",
    "                \n",
    "    # can the piece move right?\n",
    "    if y < board_size - 1:\n",
    "        pos_x = x\n",
    "        pos_y = y\n",
    "        while pos_y < board_size - 1 and not full_board[x, pos_y + 1]:\n",
    "            pos_y += 1\n",
    "\n",
    "            if ((full_board[x, y] == 2 and ((x, pos_y) == throne))) or (((x, pos_y) != throne)):\n",
    "                actions.append(((x, y), (x, pos_y)))\n",
    "\n",
    "    return actions"
   ]
  },
  {
   "cell_type": "code",
   "execution_count": 50,
   "metadata": {},
   "outputs": [],
   "source": [
    "# In: state (current state)\n",
    "# Out: list of all possible actions for all pieces of the current player \n",
    "#      where action a = ((x, y), (new_x, new_y))\n",
    "def compute_valid_moves(state):\n",
    "    actions = []\n",
    "\n",
    "    board_size = state.shape[1]\n",
    "\n",
    "    full_board = state[0] + state[1]\n",
    "\n",
    "    throne = (board_size // 2, board_size // 2)\n",
    "\n",
    "    turn = int(np.max(state[2]))\n",
    "\n",
    "    for i in range(board_size):\n",
    "            for j in range(board_size):\n",
    "                if state[turn, i, j]:\n",
    "                    piece_actions = actions_for_piece(state, i, j)\n",
    "\n",
    "                    # this isn't the most efficient way of doing this \n",
    "                    # but I wanted to have a seperate helper method\n",
    "                    for a in piece_actions:\n",
    "                        actions.append(a)\n",
    "    return actions"
   ]
  },
  {
   "cell_type": "code",
   "execution_count": 51,
   "metadata": {},
   "outputs": [
    {
     "output_type": "execute_result",
     "data": {
      "text/plain": [
       "[((0, 2), (0, 1)),\n",
       " ((0, 2), (0, 0)),\n",
       " ((0, 2), (0, 3)),\n",
       " ((0, 2), (0, 4)),\n",
       " ((2, 0), (1, 0)),\n",
       " ((2, 0), (0, 0)),\n",
       " ((2, 0), (3, 0)),\n",
       " ((2, 0), (4, 0)),\n",
       " ((2, 4), (1, 4)),\n",
       " ((2, 4), (0, 4)),\n",
       " ((2, 4), (3, 4)),\n",
       " ((2, 4), (4, 4)),\n",
       " ((4, 2), (4, 1)),\n",
       " ((4, 2), (4, 0)),\n",
       " ((4, 2), (4, 3)),\n",
       " ((4, 2), (4, 4))]"
      ]
     },
     "metadata": {},
     "execution_count": 51
    }
   ],
   "source": [
    "compute_valid_moves(state)"
   ]
  },
  {
   "source": [
    "## Checking the time complexity"
   ],
   "cell_type": "markdown",
   "metadata": {}
  },
  {
   "cell_type": "code",
   "execution_count": 60,
   "metadata": {},
   "outputs": [
    {
     "output_type": "stream",
     "name": "stdout",
     "text": [
      "0.00018949400016572327 7.144579193593266e-05\n"
     ]
    }
   ],
   "source": [
    "import timeit\n",
    "\n",
    "state = np.zeros((hnef_vars.NUM_CHNLS, 9, 9))\n",
    "attacker_layout = np.array([[0,0,0,1,1,1,0,0,0],\n",
    "                            [0,0,0,0,1,0,0,0,0],\n",
    "                            [0,0,0,0,0,0,0,0,0],\n",
    "                            [1,0,0,0,0,0,0,0,1],\n",
    "                            [1,0,0,0,0,0,0,0,1],\n",
    "                            [1,0,0,0,0,0,0,0,1],\n",
    "                            [0,0,0,0,0,0,0,0,0],\n",
    "                            [0,0,0,0,1,0,0,0,0],\n",
    "                            [0,0,0,1,1,1,0,0,0]])\n",
    "defender_layout = np.array([[0,0,0,0,0,0,0,0,0],\n",
    "                            [0,0,0,0,0,0,0,0,0],\n",
    "                            [0,0,0,0,1,0,0,0,0],\n",
    "                            [0,0,0,0,1,0,0,0,0],\n",
    "                            [0,0,1,1,2,1,1,0,0],\n",
    "                            [0,0,0,0,1,0,0,0,0],\n",
    "                            [0,0,0,0,1,0,0,0,0],\n",
    "                            [0,0,0,0,0,0,0,0,0],\n",
    "                            [0,0,0,0,0,0,0,0,0]])\n",
    "state[hnef_vars.ATTACKER] = attacker_layout\n",
    "state[hnef_vars.DEFENDER] = defender_layout\n",
    "board_size = state.shape[1]\n",
    "\n",
    "times = []\n",
    "for i in range(1000):\n",
    "\n",
    "    start = timeit.default_timer()\n",
    "    compute_valid_moves(state)\n",
    "    end = timeit.default_timer()\n",
    "    times.append(end - start)\n",
    "\n",
    "print(np.mean(times), np.std(times))"
   ]
  },
  {
   "cell_type": "code",
   "execution_count": 61,
   "metadata": {},
   "outputs": [
    {
     "output_type": "stream",
     "name": "stdout",
     "text": [
      "0.000279090400057612 7.538956275792639e-05\n"
     ]
    }
   ],
   "source": [
    "state = np.zeros((hnef_vars.NUM_CHNLS, 11, 11))\n",
    "attacker_layout = np.array([[0,0,0,1,1,1,1,1,0,0,0],\n",
    "                            [0,0,0,0,0,1,0,0,0,0,0],\n",
    "                            [0,0,0,0,0,0,0,0,0,0,0],\n",
    "                            [1,0,0,0,0,0,0,0,0,0,1],\n",
    "                            [1,0,0,0,0,0,0,0,0,0,1],\n",
    "                            [1,1,0,0,0,0,0,0,0,1,1],\n",
    "                            [1,0,0,0,0,0,0,0,0,0,1],\n",
    "                            [1,0,0,0,0,0,0,0,0,0,1],\n",
    "                            [0,0,0,0,0,0,0,0,0,0,0],\n",
    "                            [0,0,0,0,0,1,0,0,0,0,0],\n",
    "                            [0,0,0,1,1,1,1,1,0,0,0]])\n",
    "                    \n",
    "defender_layout = np.array([[0,0,0,0,0,0,0,0,0,0,0],\n",
    "                            [0,0,0,0,0,0,0,0,0,0,0],\n",
    "                            [0,0,0,0,0,0,0,0,0,0,0],\n",
    "                            [0,0,0,0,0,1,0,0,0,0,0],\n",
    "                            [0,0,0,0,1,1,1,0,0,0,0],\n",
    "                            [0,0,0,1,1,2,1,1,0,0,0],\n",
    "                            [0,0,0,0,1,1,1,0,0,0,0],\n",
    "                            [0,0,0,0,0,1,0,0,0,0,0],\n",
    "                            [0,0,0,0,0,0,0,0,0,0,0],\n",
    "                            [0,0,0,0,0,0,0,0,0,0,0],\n",
    "                            [0,0,0,0,0,0,0,0,0,0,0]])\n",
    "state[hnef_vars.ATTACKER] = attacker_layout\n",
    "state[hnef_vars.DEFENDER] = defender_layout\n",
    "\n",
    "board_size = state.shape[1]\n",
    "\n",
    "times = []\n",
    "for i in range(1000):\n",
    "\n",
    "    start = timeit.default_timer()\n",
    "    compute_valid_moves(state)\n",
    "    end = timeit.default_timer()\n",
    "    times.append(end - start)\n",
    "\n",
    "print(np.mean(times), np.std(times))"
   ]
  },
  {
   "source": [
    "# Experiment with check_capture"
   ],
   "cell_type": "markdown",
   "metadata": {}
  },
  {
   "cell_type": "code",
   "execution_count": 5,
   "metadata": {},
   "outputs": [],
   "source": [
    "import hnef_vars"
   ]
  },
  {
   "cell_type": "code",
   "execution_count": 37,
   "metadata": {},
   "outputs": [],
   "source": []
  },
  {
   "cell_type": "code",
   "execution_count": 45,
   "metadata": {},
   "outputs": [],
   "source": [
    "# Method for checking whether a capture has taken place\n",
    "# In: state (current state), action (action taken by current player)\n",
    "# Out: state (new state)\n",
    "def check_capture(state, action):\n",
    "    # current player\n",
    "    player = int(np.max(state[hnef_vars.TURN_CHNL]))\n",
    "    # other player\n",
    "    other_player = np.abs(player - 1)\n",
    "    # defender\n",
    "    df = hnef_vars.DEFENDER\n",
    "    # attacker\n",
    "    at = hnef_vars.ATTACKER\n",
    "    # board size\n",
    "    board_size = state.shape[1]\n",
    "    # throne location\n",
    "    throne = (board_size // 2, board_size // 2)\n",
    "\n",
    "    # new location of moved piece\n",
    "    x, y = action[1]\n",
    "\n",
    "    ## capturing normal pieces normally\n",
    "    \n",
    "    # capturing upwards\n",
    "    if x > 1 and state[other_player][x-1][y] == 1 and state[player][x-2][y] > 0:\n",
    "        state[other_player][x-1][y] = 0\n",
    "\n",
    "    # capturing downwards\n",
    "    if x < board_size - 2 and state[other_player][x+1][y] == 1 and state[player][x+2][y] > 0:\n",
    "        state[other_player][x+1][y] = 0\n",
    "    \n",
    "    # capturing left\n",
    "    if y > 1 and state[other_player][x][y-1] == 1 and state[player][x][y-2] > 0:\n",
    "        state[other_player][x][y-1] = 0\n",
    "\n",
    "    # capturing right\n",
    "    if y < board_size - 2 and state[other_player][x][y+1] == 1 and state[player][x][y+2] > 0:\n",
    "        state[other_player][x][y+1] = 0\n",
    "    \n",
    "    ## capturing normal pieces with the throne\n",
    "    \n",
    "    # if the king is on the throne then the white pieces cant be captured in this way\n",
    "    if not (player == at and state[df][throne[0]][throne[0]] == 2):\n",
    "        print(state[player][x-2][y] == throne)\n",
    "\n",
    "        # capturing upwards\n",
    "        if x > 1 and state[other_player][x-1][y] == 1 and np.mean(state[player][x-2][y] == throne):\n",
    "            state[other_player][x-1][y] = 0\n",
    "        # capturing downwards\n",
    "        elif x < board_size - 2 and state[other_player][x+1][y] == 1 and np.mean(state[player][x+2][y] == throne):\n",
    "            state[other_player][x+1][y] = 0\n",
    "        # capturing left\n",
    "        elif y > 1 and state[other_player][x][y-1] == 1 and np.mean(state[player][x][y-2] == throne):\n",
    "            state[other_player][x][y-1] = 0\n",
    "        # capturing right\n",
    "        elif y < board_size - 2 and state[other_player][x][y+1] == 1 and np.mean(state[player][x][y+2] == throne):\n",
    "            state[other_player][x][y+1] = 0\n",
    "    \n",
    "    ## capturing the king normally\n",
    "\n",
    "    # capturing upwards\n",
    "    if x > 1 and state[df][x-1][y] == 2 and state[player][x-2][y] > 0:\n",
    "        state[df][x-1][y] = 0\n",
    "        state[hnef_vars.DONE_CHNL] = 1\n",
    "        return state\n",
    "\n",
    "    # capturing downwards\n",
    "    if x < board_size - 2 and state[df][x+1][y] == 2 and state[player][x+2][y] > 0:\n",
    "        state[df][x+1][y] = 0\n",
    "        state[hnef_vars.DONE_CHNL] = 1\n",
    "        return state\n",
    "    \n",
    "    # capturing left\n",
    "    if y > 1 and state[df][x][y-1] == 2 and state[player][x][y-2] > 0:\n",
    "        state[df][x][y-1] = 0\n",
    "        state[hnef_vars.DONE_CHNL] = 1\n",
    "        return state\n",
    "\n",
    "    # capturing right\n",
    "    if y < board_size - 2 and state[df][x][y+1] == 2 and state[player][x][y+2] > 0:\n",
    "        state[df][x][y+1] = 0\n",
    "        state[hnef_vars.DONE_CHNL] = 1\n",
    "        return state\n",
    "\n",
    "    ## capturing the king on the throne\n",
    "    if (state[df][throne[0]][throne[0]] == 2 \n",
    "        and state[at][throne[0]-1][throne[0]] \n",
    "        and state[at][throne[0]+1][throne[0]] \n",
    "        and state[at][throne[0]][throne[0]-1] \n",
    "        and state[at][throne[0]][throne[0]]+1):\n",
    "        state[df][throne[0]][throne[0]] = 0\n",
    "        state[hnef_vars.DONE_CHNL] = 1\n",
    "        return state\n",
    "\n",
    "    ## capturing the king next to the throne\n",
    "\n",
    "    if player == at:\n",
    "        # king is above throne\n",
    "        if state[df][throne[0]-1][throne[0]] == 2 and state[at][throne[0]-1][throne[0]-1] and state[at][throne[0]-1][throne[0]+1] and state[at][throne[0]-2][throne[0]]:\n",
    "            state[df][throne[0]-1][throne[0]] = 0\n",
    "            state[hnef_vars.DONE_CHNL] = 1\n",
    "            return state\n",
    "        # king is below throne  \n",
    "        elif state[df][throne[0]+1][throne[0]] == 2 and state[at][throne[0]+1][throne[0]-1] and state[at][throne[0]+1][throne[0]+1] and state[at][throne[0]+2][throne[0]]:\n",
    "            state[df][throne[0]+1][throne[0]] = 0\n",
    "            state[hnef_vars.DONE_CHNL] = 1\n",
    "            return state\n",
    "        # king is left of throne \n",
    "        elif state[df][throne[0]][throne[0]-1] == 2 and state[at][throne[0]-1][throne[0]-1] and state[at][throne[0]+1][throne[0]-1] and state[at][throne[0]][throne[0]-2]:\n",
    "            state[df][throne[0]][throne[0]-1] = 0\n",
    "            state[hnef_vars.DONE_CHNL] = 1\n",
    "            return state\n",
    "        # king is right of throne \n",
    "        elif state[df][throne[0]][throne[0]+1] == 2 and state[at][throne[0]-1][throne[0]+1] and state[at][throne[0]+1][throne[0]+1] and state[at][throne[0]][throne[0]+2]:\n",
    "            state[df][throne[0]][throne[0]+1] = 0\n",
    "            state[hnef_vars.DONE_CHNL] = 1\n",
    "            return state\n",
    "\n",
    "    return state"
   ]
  },
  {
   "cell_type": "code",
   "execution_count": 46,
   "metadata": {},
   "outputs": [
    {
     "output_type": "stream",
     "name": "stdout",
     "text": [
      "[[0. 0. 0. 0. 0.]\n [0. 0. 1. 0. 0.]\n [0. 1. 2. 1. 0.]\n [0. 0. 1. 0. 0.]\n [0. 0. 0. 0. 0.]]\n[[0. 0. 0. 0. 0.]\n [0. 0. 1. 0. 0.]\n [0. 1. 0. 1. 0.]\n [0. 0. 1. 0. 0.]\n [0. 0. 0. 0. 0.]]\n"
     ]
    }
   ],
   "source": [
    "\n",
    "\n",
    "state = np.zeros((5, 5, 5))\n",
    "\n",
    "attacker_layout = np.array([[0, 0, 0, 0, 0], \n",
    "                            [0, 0, 1, 0, 0],\n",
    "                            [0, 1, 0, 1, 0],\n",
    "                            [0, 0, 0, 0, 0],\n",
    "                            [0, 0, 1, 0, 0]])\n",
    "\n",
    "defender_layout = np.array([[0, 0, 0, 0, 0], \n",
    "                            [0, 0, 0, 0, 0],\n",
    "                            [0, 0, 2, 0, 0],\n",
    "                            [0, 0, 0, 0, 0],\n",
    "                            [0, 0, 0, 0, 0]])\n",
    "\n",
    "state[0] = attacker_layout\n",
    "state[1] = defender_layout\n",
    "# state[2, 0, 0] = 1\n",
    "board_size = state.shape[1]\n",
    "\n",
    "test_action = ((4, 2), (3, 2))\n",
    "\n",
    "valid_moves = compute_valid_moves(state)\n",
    "\n",
    "assert test_action in valid_moves\n",
    "\n",
    "turn = int(np.max(state[hnef_vars.TURN_CHNL]))\n",
    "# move the piece\n",
    "state[turn][test_action[0][0]][test_action[0][1]] = 0\n",
    "state[turn][test_action[1][0]][test_action[1][1]] = 1\n",
    "\n",
    "print(state[0]+state[1])\n",
    "new_state = check_capture(state, test_action)\n",
    "print(new_state[0]+new_state[1])"
   ]
  },
  {
   "cell_type": "code",
   "execution_count": null,
   "metadata": {},
   "outputs": [],
   "source": []
  }
 ]
}