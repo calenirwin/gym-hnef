{
 "metadata": {
  "language_info": {
   "codemirror_mode": {
    "name": "ipython",
    "version": 3
   },
   "file_extension": ".py",
   "mimetype": "text/x-python",
   "name": "python",
   "nbconvert_exporter": "python",
   "pygments_lexer": "ipython3",
   "version": "3.8.3-final"
  },
  "orig_nbformat": 2,
  "kernelspec": {
   "name": "python3",
   "display_name": "Python 3.8.3 64-bit ('Notandi': virtualenv)",
   "metadata": {
    "interpreter": {
     "hash": "db334bc7f20db4633dea0152dae3f9fc1e7b17ca545365f011fc04842ebcac58"
    }
   }
  }
 },
 "nbformat": 4,
 "nbformat_minor": 2,
 "cells": [
  {
   "cell_type": "code",
   "execution_count": 86,
   "metadata": {},
   "outputs": [],
   "source": [
    "import numpy as np"
   ]
  },
  {
   "source": [
    "# Experiment with the compute_valid_moves to see if it works for a simplified board (5x5)"
   ],
   "cell_type": "markdown",
   "metadata": {}
  },
  {
   "cell_type": "code",
   "execution_count": 87,
   "metadata": {},
   "outputs": [],
   "source": [
    "state = np.zeros((5, 5, 5))\n",
    "\n",
    "attacker_layout = np.array([[0, 0, 1, 0, 0], \n",
    "                            [0, 0, 0, 0, 0],\n",
    "                            [1, 0, 0, 0, 1],\n",
    "                            [0, 0, 0, 0, 0],\n",
    "                            [0, 0, 1, 0, 0]])\n",
    "\n",
    "defender_layout = np.array([[0, 0, 0, 0, 0], \n",
    "                            [0, 0, 1, 0, 0],\n",
    "                            [0, 1, 2, 1, 0],\n",
    "                            [0, 0, 1, 0, 0],\n",
    "                            [0, 0, 0, 0, 0]])\n",
    "\n",
    "state[0] = attacker_layout\n",
    "state[1] = defender_layout"
   ]
  },
  {
   "cell_type": "code",
   "execution_count": 88,
   "metadata": {},
   "outputs": [],
   "source": [
    "board_size = state.shape[1]"
   ]
  },
  {
   "cell_type": "code",
   "execution_count": 89,
   "metadata": {},
   "outputs": [
    {
     "output_type": "execute_result",
     "data": {
      "text/plain": [
       "array([[0., 0., 1., 0., 0.],\n",
       "       [0., 0., 1., 0., 0.],\n",
       "       [1., 1., 2., 1., 1.],\n",
       "       [0., 0., 1., 0., 0.],\n",
       "       [0., 0., 1., 0., 0.]])"
      ]
     },
     "metadata": {},
     "execution_count": 89
    }
   ],
   "source": [
    "state[0] + state[1]"
   ]
  },
  {
   "cell_type": "code",
   "execution_count": 90,
   "metadata": {},
   "outputs": [],
   "source": [
    "# In: state (current state), x-position of piece, y-position of piece\n",
    "# Out: list of all possible actions where action a = ((x, y), (new_x, new_y))\n",
    "def actions_for_piece(state, x, y):\n",
    "    actions = []\n",
    "\n",
    "    board_size = state.shape[1]\n",
    "\n",
    "    # the position of every piece\n",
    "    full_board = state[0] + state[1]\n",
    "\n",
    "    throne = (board_size // 2, board_size // 2)\n",
    "    # can the piece move up?\n",
    "    if x > 0:\n",
    "        pos_x = x\n",
    "        pos_y = y \n",
    "        # continue until on the edge or about to collide with another piece\n",
    "        while pos_x > 0 and not full_board[pos_x - 1, y]:\n",
    "            pos_x -= 1\n",
    "            # the action isn't possible if the destination is the throne, except if the piece is the king\n",
    "            if ((full_board[x, y] == 2 and ((pos_x, y) == throne))) or (((pos_x, y) != throne)):\n",
    "                actions.append(((x, y), (pos_x, y)))\n",
    "\n",
    "    # can the piece move down?\n",
    "    if x < board_size - 1:\n",
    "        pos_x = x\n",
    "        pos_y = y\n",
    "        # continue until on the edge or about to collide with another piece\n",
    "        while pos_x < board_size - 1 and not full_board[pos_x + 1, y]:\n",
    "            pos_x += 1\n",
    "\n",
    "            if ((full_board[x, y] == 2 and ((pos_x, y) == throne))) or (((pos_x, y) != throne)):\n",
    "                actions.append(((x, y), (pos_x, y)))\n",
    "\n",
    "    # can the piece move left?\n",
    "    if y > 0:\n",
    "        pos_x = x\n",
    "        pos_y = y\n",
    "        while pos_y > 0 and not full_board[x, pos_y - 1]:\n",
    "            pos_y -= 1\n",
    "\n",
    "            if ((full_board[x, y] == 2 and ((x, pos_y) == throne))) or (((x, pos_y) != throne)):\n",
    "                actions.append(((x, y), (x, pos_y)))\n",
    "                \n",
    "    # can the piece move right?\n",
    "    if y < board_size - 1:\n",
    "        pos_x = x\n",
    "        pos_y = y\n",
    "        while pos_y < board_size - 1 and not full_board[x, pos_y + 1]:\n",
    "            pos_y += 1\n",
    "\n",
    "            if ((full_board[x, y] == 2 and ((x, pos_y) == throne))) or (((x, pos_y) != throne)):\n",
    "                actions.append(((x, y), (x, pos_y)))\n",
    "\n",
    "    return actions"
   ]
  },
  {
   "cell_type": "code",
   "execution_count": 91,
   "metadata": {},
   "outputs": [],
   "source": [
    "# In: state (current state)\n",
    "# Out: list of all possible actions for all pieces of the current player \n",
    "#      where action a = ((x, y), (new_x, new_y))\n",
    "def compute_valid_moves(state):\n",
    "    actions = []\n",
    "\n",
    "    board_size = state.shape[1]\n",
    "\n",
    "    full_board = state[0] + state[1]\n",
    "\n",
    "    throne = (board_size // 2, board_size // 2)\n",
    "\n",
    "    turn = int(np.max(state[2]))\n",
    "\n",
    "    for i in range(board_size):\n",
    "            for j in range(board_size):\n",
    "                if state[turn, i, j]:\n",
    "                    piece_actions = actions_for_piece(state, i, j)\n",
    "\n",
    "                    # this isn't the most efficient way of doing this \n",
    "                    # but I wanted to have a seperate helper method\n",
    "                    for a in piece_actions:\n",
    "                        actions.append(a)\n",
    "    return actions"
   ]
  },
  {
   "cell_type": "code",
   "execution_count": 92,
   "metadata": {},
   "outputs": [
    {
     "output_type": "execute_result",
     "data": {
      "text/plain": [
       "[((0, 2), (0, 1)),\n",
       " ((0, 2), (0, 0)),\n",
       " ((0, 2), (0, 3)),\n",
       " ((0, 2), (0, 4)),\n",
       " ((2, 0), (1, 0)),\n",
       " ((2, 0), (0, 0)),\n",
       " ((2, 0), (3, 0)),\n",
       " ((2, 0), (4, 0)),\n",
       " ((2, 4), (1, 4)),\n",
       " ((2, 4), (0, 4)),\n",
       " ((2, 4), (3, 4)),\n",
       " ((2, 4), (4, 4)),\n",
       " ((4, 2), (4, 1)),\n",
       " ((4, 2), (4, 0)),\n",
       " ((4, 2), (4, 3)),\n",
       " ((4, 2), (4, 4))]"
      ]
     },
     "metadata": {},
     "execution_count": 92
    }
   ],
   "source": [
    "compute_valid_moves(state)"
   ]
  }
 ]
}