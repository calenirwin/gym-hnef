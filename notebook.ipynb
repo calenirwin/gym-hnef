{
 "metadata": {
  "language_info": {
   "codemirror_mode": {
    "name": "ipython",
    "version": 3
   },
   "file_extension": ".py",
   "mimetype": "text/x-python",
   "name": "python",
   "nbconvert_exporter": "python",
   "pygments_lexer": "ipython3",
   "version": "3.8.3-final"
  },
  "orig_nbformat": 2,
  "kernelspec": {
   "name": "python3",
   "display_name": "Python 3.8.3 64-bit ('Notandi': virtualenv)",
   "metadata": {
    "interpreter": {
     "hash": "db334bc7f20db4633dea0152dae3f9fc1e7b17ca545365f011fc04842ebcac58"
    }
   }
  }
 },
 "nbformat": 4,
 "nbformat_minor": 2,
 "cells": [
  {
   "cell_type": "code",
   "execution_count": 3,
   "metadata": {},
   "outputs": [],
   "source": [
    "import numpy as np"
   ]
  },
  {
   "cell_type": "code",
   "execution_count": 43,
   "metadata": {},
   "outputs": [],
   "source": []
  },
  {
   "cell_type": "code",
   "execution_count": 44,
   "metadata": {},
   "outputs": [],
   "source": [
    "state = np.zeros((5, 5, 5))\n",
    "\n",
    "attacker_layout = np.array([[0, 0, 1, 0, 0], \n",
    "                            [0, 0, 0, 0, 0],\n",
    "                            [1, 0, 0, 0, 1],\n",
    "                            [0, 0, 0, 0, 0],\n",
    "                            [0, 0, 1, 0, 0]])\n",
    "\n",
    "defender_layout = np.array([[0, 0, 0, 0, 0], \n",
    "                            [0, 0, 0, 0, 0],\n",
    "                            [0, 0, 2, 0, 0],\n",
    "                            [0, 0, 0, 0, 0],\n",
    "                            [0, 0, 0, 0, 0]])\n",
    "\n",
    "state[0] = attacker_layout\n",
    "state[1] = defender_layout\n",
    "turn = int(np.max(state[2]))"
   ]
  },
  {
   "cell_type": "code",
   "execution_count": 2,
   "metadata": {},
   "outputs": [
    {
     "output_type": "execute_result",
     "data": {
      "text/plain": [
       "[((0, 0), (1, 0)), ((0, 0), (2, 0)), ((0, 0), (3, 0)), ((0, 0), (4, 0))]"
      ]
     },
     "metadata": {},
     "execution_count": 2
    }
   ],
   "source": [
    "\n",
    "actions_in_direction(0,0,0)"
   ]
  },
  {
   "cell_type": "code",
   "execution_count": 12,
   "metadata": {},
   "outputs": [],
   "source": [
    "board_size = state.shape[1]"
   ]
  },
  {
   "cell_type": "code",
   "execution_count": 23,
   "metadata": {},
   "outputs": [
    {
     "output_type": "stream",
     "name": "stdout",
     "text": [
      "1 2 1.0\n2 1 1.0\n2 2 2.0\n2 3 1.0\n3 2 1.0\n"
     ]
    }
   ],
   "source": [
    "for i in range(board_size):\n",
    "    for j in range(board_size):\n",
    "\n",
    "        if not state[1, i, j]:\n",
    "            continue       \n",
    "\n",
    "        "
   ]
  },
  {
   "cell_type": "code",
   "execution_count": 45,
   "metadata": {},
   "outputs": [
    {
     "output_type": "execute_result",
     "data": {
      "text/plain": [
       "array([[0., 0., 1., 0., 0.],\n",
       "       [0., 0., 0., 0., 0.],\n",
       "       [1., 0., 2., 0., 1.],\n",
       "       [0., 0., 0., 0., 0.],\n",
       "       [0., 0., 1., 0., 0.]])"
      ]
     },
     "metadata": {},
     "execution_count": 45
    }
   ],
   "source": [
    "state[0] + state[1]"
   ]
  },
  {
   "cell_type": "code",
   "execution_count": 57,
   "metadata": {},
   "outputs": [
    {
     "output_type": "execute_result",
     "data": {
      "text/plain": [
       "[((2, 0), (2, 1))]"
      ]
     },
     "metadata": {},
     "execution_count": 57
    }
   ],
   "source": [
    "def actions_in_direction(state, x, y, dir):\n",
    "    actions = []\n",
    "    \n",
    "    pos_x = x\n",
    "    pos_y = y\n",
    "\n",
    "    board_size = state.shape[1]\n",
    "\n",
    "    full_board = state[0] + state[1]\n",
    "\n",
    "    throne = (board_size // 2, board_size // 2)\n",
    "\n",
    "    if dir == 'u':\n",
    "        while pos_x > 0 and not full_board[pos_x - 1, y]:\n",
    "            pos_x -= 1\n",
    "            # the action isn't possible if the destination is the throne, except if the piece is the king\n",
    "\n",
    "            if ((full_board[x, y] == 2 and ((pos_x, y) == throne))) or (((pos_x, y) != throne)):\n",
    "                actions.append(((x, y), (pos_x, y)))\n",
    "\n",
    "    if dir == 'd':\n",
    "        while pos_x < board_size - 1 and not full_board[pos_x + 1, y]:\n",
    "            pos_x += 1\n",
    "\n",
    "            if ((full_board[x, y] == 2 and ((pos_x, y) == throne))) or (((pos_x, y) != throne)):\n",
    "                actions.append(((x, y), (pos_x, y)))\n",
    "    \n",
    "    if dir == 'l':\n",
    "        while pos_y > 0 and not full_board[x, pos_y - 1]:\n",
    "            pos_y -= 1\n",
    "\n",
    "            if ((full_board[x, y] == 2 and ((x, pos_y) == throne))) or (((x, pos_y) != throne)):\n",
    "                actions.append(((x, y), (x, pos_y)))\n",
    "    \n",
    "    if dir == 'r':\n",
    "        while pos_y < board_size - 1 and not full_board[x, pos_y + 1]:\n",
    "            pos_y += 1\n",
    "\n",
    "            if ((full_board[x, y] == 2 and ((x, pos_y) == throne))) or (((x, pos_y) != throne)):\n",
    "                actions.append(((x, y), (x, pos_y)))\n",
    "\n",
    "    return actions\n",
    "\n",
    "actions_in_direction(state, 2, 0, 'r')"
   ]
  },
  {
   "cell_type": "code",
   "execution_count": null,
   "metadata": {},
   "outputs": [],
   "source": []
  }
 ]
}